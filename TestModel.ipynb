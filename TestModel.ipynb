{
 "cells": [
  {
   "cell_type": "code",
   "execution_count": 11,
   "id": "a6d6fe32",
   "metadata": {
    "scrolled": false
   },
   "outputs": [
    {
     "name": "stdout",
     "output_type": "stream",
     "text": [
      "El paciente corresponde a la clase cardiaca"
     ]
    },
    {
     "name": "stderr",
     "output_type": "stream",
     "text": [
      "  % Total    % Received % Xferd  Average Speed   Time    Time     Time  Current\n",
      "                                 Dload  Upload   Total   Spent    Left  Speed\n",
      "\n",
      "  0     0    0     0    0     0      0      0 --:--:-- --:--:-- --:--:--     0\n",
      "100   104  100    44  100    60   6285   8571 --:--:-- --:--:-- --:--:-- 14857\n"
     ]
    },
    {
     "name": "stdout",
     "output_type": "stream",
     "text": [
      "\n"
     ]
    }
   ],
   "source": [
    "!curl -d \"{\\\"Datos\\\":[[48, 1, 2, 124, 255, 1, 1, 175, 0, 0.0, 2, 2, 1]]}\" -H \"Content-Type: application/json\" -X POST http://127.0.0.1:5000/predecir\n",
    "        "
   ]
  },
  {
   "cell_type": "code",
   "execution_count": 12,
   "id": "05d0b010",
   "metadata": {},
   "outputs": [
    {
     "name": "stdout",
     "output_type": "stream",
     "text": [
      "El paciente corresponde a la clase Sano\n"
     ]
    },
    {
     "name": "stderr",
     "output_type": "stream",
     "text": [
      "  % Total    % Received % Xferd  Average Speed   Time    Time     Time  Current\n",
      "                                 Dload  Upload   Total   Spent    Left  Speed\n",
      "\n",
      "  0     0    0     0    0     0      0      0 --:--:-- --:--:-- --:--:--     0\n",
      "100    60    0     0  100    60      0   6000 --:--:-- --:--:-- --:--:--  5454\n",
      "100   100  100    40  100    60   4000   6000 --:--:-- --:--:-- --:--:--  9090\n"
     ]
    }
   ],
   "source": [
    "!curl -d \"{\\\"Datos\\\":[[65, 1, 3, 138, 282, 1, 0, 174, 0, 1.4, 1, 2, 0]]}\" -H \"Content-Type: application/json\" -X POST http://127.0.0.1:5000/predecir\n",
    "   "
   ]
  },
  {
   "cell_type": "code",
   "execution_count": 14,
   "id": "298f365e",
   "metadata": {},
   "outputs": [
    {
     "name": "stdout",
     "output_type": "stream",
     "text": [
      "El paciente corresponde a la clase Sano\n",
      "El paciente corresponde a la clase cardiaca\n"
     ]
    },
    {
     "name": "stderr",
     "output_type": "stream",
     "text": [
      "  % Total    % Received % Xferd  Average Speed   Time    Time     Time  Current\n",
      "                                 Dload  Upload   Total   Spent    Left  Speed\n",
      "\n",
      "  0     0    0     0    0     0      0      0 --:--:-- --:--:-- --:--:--     0\n",
      "100   193  100    84  100   109   4200   5450 --:--:-- --:--:-- --:--:-- 10157\n"
     ]
    }
   ],
   "source": [
    "!curl -d \"{\\\"Datos\\\":[[40, 1, 0, 110, 167, 0, 0, 114, 1, 2.0, 1, 3, 0],[48, 1, 2, 124, 255, 1, 1, 175, 0, 0.0, 2, 2, 1]]}\" -H \"Content-Type: application/json\" -X POST http://127.0.0.1:5000/predecir"
   ]
  },
  {
   "cell_type": "code",
   "execution_count": 6,
   "id": "02342b38",
   "metadata": {},
   "outputs": [],
   "source": [
    "#https://deploy-flaskclase.herokuapp.com/"
   ]
  },
  {
   "cell_type": "code",
   "execution_count": 2,
   "id": "6268c033",
   "metadata": {},
   "outputs": [
    {
     "name": "stdout",
     "output_type": "stream",
     "text": [
      "El paciente corresponde a la clase cardiaca\n"
     ]
    },
    {
     "name": "stderr",
     "output_type": "stream",
     "text": [
      "  % Total    % Received % Xferd  Average Speed   Time    Time     Time  Current\n",
      "                                 Dload  Upload   Total   Spent    Left  Speed\n",
      "\n",
      "  0     0    0     0    0     0      0      0 --:--:-- --:--:-- --:--:--     0\n",
      "100   104  100    44  100    60     91    124 --:--:-- --:--:-- --:--:--   216\n"
     ]
    }
   ],
   "source": [
    "!curl -d \"{\\\"Datos\\\":[[50, 1, 2, 129, 196, 0, 1, 163, 0, 0.0, 2, 0, 1]]}\" -H \"Content-Type: application/json\" -X POST https://deploy-flaskt.herokuapp.com/predecir"
   ]
  },
  {
   "cell_type": "code",
   "execution_count": null,
   "id": "39d40709",
   "metadata": {},
   "outputs": [],
   "source": [
    "        "
   ]
  },
  {
   "cell_type": "code",
   "execution_count": null,
   "id": "c90d2556",
   "metadata": {},
   "outputs": [],
   "source": []
  }
 ],
 "metadata": {
  "kernelspec": {
   "display_name": "entronomp1",
   "language": "python",
   "name": "entornomp1"
  },
  "language_info": {
   "codemirror_mode": {
    "name": "ipython",
    "version": 3
   },
   "file_extension": ".py",
   "mimetype": "text/x-python",
   "name": "python",
   "nbconvert_exporter": "python",
   "pygments_lexer": "ipython3",
   "version": "3.7.10"
  }
 },
 "nbformat": 4,
 "nbformat_minor": 5
}
